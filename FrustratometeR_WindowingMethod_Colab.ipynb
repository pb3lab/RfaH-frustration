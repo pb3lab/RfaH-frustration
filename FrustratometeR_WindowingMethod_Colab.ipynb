{
  "cells": [
    {
      "cell_type": "markdown",
      "metadata": {
        "id": "V5-x0KqhAcDv"
      },
      "source": [
        "# Contact-based analysis of per-residue local energetic frustration dynamics in fold-switching simulations using the FrustratometeR"
      ]
    },
    {
      "cell_type": "markdown",
      "metadata": {
        "id": "SwY1Y6n3AyDH"
      },
      "source": [
        "This Colab Notebook enables the use of a windowing method for determining which residues exhibit significant changes in local frustration density of contacts around 5 Å, using both contact-based mutational and configurational frustration for the analysis.\n",
        "\n",
        "This analysis might take a while on Google Colab (~2 frames/min), so it is mainly provided as an example.\n",
        "\n",
        "**REQUIREMENTS**\n",
        "- Refolding simulations saved as individual frames in PDB format, numbered from 0 to N, where N is the total of frames\n",
        "- Upload these PDB files into a folder on Google Colab (e.g. *input*)"
      ]
    },
    {
      "cell_type": "code",
      "execution_count": null,
      "metadata": {
        "cellView": "form",
        "id": "tASDy0685Z3n"
      },
      "outputs": [],
      "source": [
        "#@title 1. Installing FrustratometeR\n",
        "import os\n",
        "print(\"Installing FrustratometeR\")\n",
        "os.system(\"pip install udocker\")\n",
        "os.system(\"udocker --allow-root install\")\n",
        "os.system(\"udocker --allow-root pull marifrei/frustrar\")\n",
        "print(\"Installing additional dependencies\")\n",
        "import numpy as np\n",
        "import sys\n",
        "print(\"Installation done!\")"
      ]
    },
    {
      "cell_type": "code",
      "execution_count": null,
      "metadata": {
        "cellView": "form",
        "id": "0yLKV0SaORqD"
      },
      "outputs": [],
      "source": [
        "#@title 2. (Optional) Download a representative trajectory as multiple PDB files\n",
        "import os\n",
        "import tarfile\n",
        "print(\"Downloading short trajectory (400 frames)\")\n",
        "os.system(\"curl -L -o input.tar.gz https://zenodo.org/records/12594323/files/input_one_fs.tar.gz?download=1\")\n",
        "os.system(\"tar zxf input.tar.gz\")\n",
        "print(\"Download completed\")\n"
      ]
    },
    {
      "cell_type": "code",
      "execution_count": null,
      "metadata": {
        "cellView": "form",
        "id": "X7dx4lJV8iae"
      },
      "outputs": [],
      "source": [
        "#@title 3. Set up analysis parameters\n",
        "#@markdown  - Indicate the input folder where the PDBs of your trajectory are located\n",
        "InputFolder = 'input_one_fs/' #@param {type:\"string\"}\n",
        "\n",
        "# This will be the folder inside the FrustratometeR docker\n",
        "InputRoot = \"/root/\"+InputFolder\n",
        "\n",
        "#@markdown - Indicate the prefix name of the PDB files (e.g. \"pdb\" for pdb1.pdb, pdb2.pdb...)\n",
        "prefix = 'pdb' #@param {type:\"string\"}\n",
        "\n",
        "#@markdown  - Indicate the output folder for the FrustratometeR analysis\n",
        "OutputFolder = 'output/' #@param {type:\"string\"}\n",
        "# We will create the outputFolder\n",
        "os.mkdir(\"/content/\"+OutputFolder)\n",
        "# This will be the folder inside the FrustratometeR docker\n",
        "OutputRoot = \"/root/\"+OutputFolder\n",
        "\n",
        "#@markdown  - Indicate the number of residues in your protein\n",
        "Nres = 162 #@param {type:\"raw\"}\n",
        "\n",
        "#@markdown  - Indicate if the start frame of your simulation is 0 or 1\n",
        "Start = 0 #@param {type:\"raw\"}"
      ]
    },
    {
      "cell_type": "code",
      "execution_count": null,
      "metadata": {
        "cellView": "form",
        "id": "2nE75ToJpZ5g"
      },
      "outputs": [],
      "source": [
        "#@title 4. Run Mutational and Configurational Frustration analysis for all frames\n",
        "\n",
        "# Generate a R script for Frustration Analysis\n",
        "out_r=open('r_frustration.R','w')\n",
        "\n",
        "# Determining the number of frames\n",
        "os.system('cd '+InputFolder+';ls *.pdb | wc -l > aux')\n",
        "aux=open(InputFolder+'aux')\n",
        "laux=aux.readline()\n",
        "n_pdbs=int(laux.rstrip('\\n'))\n",
        "if Start == 0:\n",
        "  n_pdbs=int(laux.rstrip('\\n')) - 1\n",
        "\n",
        "os.system('rm '+InputFolder+'aux')\n",
        "\n",
        "out_r.write('library(reticulate)\\n')\n",
        "out_r.write('use_python(\"/usr/bin/python3\")\\n')\n",
        "out_r.write('Sys.setenv(RETICULATE_PYTHON = \"/usr/bin/python3\")\\n')\n",
        "out_r.write('reticulate::py_config()\\n')\n",
        "out_r.write('library(frustratometeR)\\n')\n",
        "out_r.write('PdbsDir <- \"'+InputRoot+'\"\\n')\n",
        "out_r.write('ResultsDir <- \"'+OutputRoot+'\"\\n')\n",
        "out_r.write('OrderList <-c()\\n')\n",
        "out_r.write('for(i in as.numeric('+str(Start)+'):as.numeric('+str(n_pdbs)+'))\\n')\n",
        "out_r.write('{OrderList <- c(OrderList, paste(\"'+prefix+'\",i,\".pdb\",sep=\"\"))}\\n')\n",
        "out_r.write('Dynamic_mutational <- dynamic_frustration(PdbsDir = PdbsDir, ResultsDir = ResultsDir,\\n')\n",
        "out_r.write('                                    GIFs = FALSE, Mode = \"mutational\")\\n')\n",
        "out_r.write('Dynamic_configurational <- dynamic_frustration(PdbsDir = PdbsDir, ResultsDir = ResultsDir,\\n')\n",
        "out_r.write('                                    GIFs = FALSE, Mode = \"configurational\")\\n')\n",
        "out_r.close()\n",
        "print('Start frustration calculations. This might take a while (~2 frames/min)...')\n",
        "os.system('udocker --allow-root run --rm -v $(pwd):/root marifrei/frustrar:latest Rscript r_frustration.R > Frustration')\n",
        "print('Frustration calculations done!')"
      ]
    },
    {
      "cell_type": "code",
      "execution_count": null,
      "metadata": {
        "cellView": "form",
        "id": "4XO0PGXZpyIB"
      },
      "outputs": [],
      "source": [
        "#@title 5. Analysis of Per-residue Frustration using a Windowing Method\n",
        "#Windowing method\n",
        "\n",
        "l_protein=Nres\n",
        "sim_start=Start\n",
        "\n",
        "out_ref=open(InputFolder+'Reference.csv','w')\n",
        "out_ref.write('Res Min Max Neu CMin CMax CNeu\\n')\n",
        "\n",
        "\n",
        "tam_vent=int(float(n_pdbs)*0.05) # Here we calculate the window size\n",
        "ref_min=np.zeros(l_protein+1)\n",
        "ref_neu=np.zeros(l_protein+1)\n",
        "ref_max=np.zeros(l_protein+1)\n",
        "mode=['configurational','mutational']\n",
        "folder_name=InputFolder+'/pngs-all/'\n",
        "\n",
        "os.system('mkdir '+folder_name)\n",
        "residues=[]\n",
        "print('Start SD and mean calculations')\n",
        "for x in range(0, len(mode)):\n",
        "\tfor i in range(sim_start, int(laux),int(tam_vent)):\n",
        "\t\tcmin=np.zeros(l_protein+1)\n",
        "\t\tcmax=np.zeros(l_protein+1)\n",
        "\t\tcneu=np.zeros(l_protein+1)\n",
        "\t\tfor j in range(i, int(tam_vent)+i):\n",
        "\t\t\tif os.path.exists(OutputFolder+prefix+str(j)+'.done/FrustrationData/'+prefix+str(j)+'.pdb_'+mode[x]+'_5adens'):\n",
        "\t\t\t\tfst=open(OutputFolder+prefix+str(j)+'.done/FrustrationData/'+prefix+str(j)+'.pdb_'+mode[x]+'_5adens')\n",
        "\t\t\t\tfor line in fst.readlines():\n",
        "\t\t\t\t\tif not 'nMinimallyFrst' in line:\n",
        "\t\t\t\t\t\tsp=line.rstrip('\\n').split()\n",
        "\t\t\t\t\t\tcmin[int(sp[0])]+= int(sp[5]) #Adding number of Minimally frustrated contacts at 5 ams of each residue\n",
        "\t\t\t\t\t\tcmax[int(sp[0])]+= int(sp[3]) #Adding number of Highly frustrated contacts at 5 ams of each residue\n",
        "\t\t\t\t\t\tcneu[int(sp[0])]+= int(sp[4]) #Adding number of Neutral frustrated contacts at 5 ams of each residue\n",
        "\t\t\t\tfst.close()\n",
        "\n",
        "\t\tif i == sim_start: #if the windows y the first one, we save this parameters because we need it for the future comparations (initia window)\n",
        "\t\t\tfor k in range(sim_start, l_protein+1):\n",
        "\t\t\t\tref_neu[k] = cneu[k]\n",
        "\t\t\t\tref_min[k] = cmin[k]\n",
        "\t\t\t\tref_max[k] = cmax[k]\n",
        "\t\telse: # if te windows is not the first, we compare this with the initial window\n",
        "\t\t\tfor k in range(1, l_protein+1):\n",
        "\t\t\t\tif ref_min[k] != 0:\n",
        "\t\t\t\t\tdiv_ref_min=(cmin[k])/ref_min[k] #here we calculate th ratio between the Wn and the W0, for the minimally frustrated residues\n",
        "\t\t\t\telse:\n",
        "\t\t\t\t\tdiv_ref_min=0\n",
        "\t\t\t\tif ref_max[k] != 0:\n",
        "\t\t\t\t\tdiv_ref_max=(cmax[k])/ref_max[k] # for highly frustrated\n",
        "\t\t\t\telse:\n",
        "\t\t\t\t\tdiv_ref_max=0\n",
        "\t\t\t\tif ref_neu[k] != 0:\n",
        "\t\t\t\t\tdiv_ref_neu=(cneu[k])/ref_neu[k] # for neutral\n",
        "\t\t\t\telse:\n",
        "\t\t\t\t\tdiv_ref_neu=0\n",
        "\t\t\t\tout_ref.write(str(k)+' '+str(div_ref_min)+' '+str(div_ref_max)+' '+str(div_ref_neu)+' '+str(cmin[k]/tam_vent)+' '+str(cmax[k]/tam_vent)+' '+str(cneu[k]/tam_vent)+'\\n')\n",
        "\n",
        "\timport pandas as pd\n",
        "\tdf = pd.read_csv(InputFolder+'Reference.csv',sep=' ')\n",
        "\n",
        "\tstd_dev_grouped = df.groupby('Res')['Min'].std()\n",
        "\tmean_ref_grouped = df.groupby('Res')['Min'].mean()\n",
        "\tmedian_dev_grouped = df.groupby('Res')['CMin'].median()\n",
        "\n",
        "\tprint(\"Residues identified using \"+str(mode[x])+\" frustration\")\n",
        "\tresidues_filtered = []\n",
        "\tfor i in range(0, len(std_dev_grouped)):\n",
        "\t\tif mean_ref_grouped.iloc[i] != 0:\n",
        "\t\t\tif std_dev_grouped.iloc[i]/mean_ref_grouped.iloc[i] > 0.4 and float(median_dev_grouped.iloc[i]) > 4: #here we calculates the coefficient of variation if this number is above to 0.4 and the mean of the contacts is higher than 4 the residue change their frustration along the MD\n",
        "\t\t\t\tprint(i+1,median_dev_grouped.iloc[i], std_dev_grouped.iloc[i])\n",
        "\t\t\t\tif not str((i+1)) in residues_filtered:\n",
        "\t\t\t\t\tresidues_filtered.append(str((i+1)))"
      ]
    },
    {
      "cell_type": "code",
      "execution_count": null,
      "metadata": {
        "cellView": "form",
        "id": "yzsPVoQ_p9xx"
      },
      "outputs": [],
      "source": [
        "#@title 6. Generating frustration plots for selected residues identified with the Windowing method\n",
        "#@markdown - The plots will be available in input folder as PNG files inside a folder named \"pngs-all\"\n",
        "#Frustration plots for selected residues using the filters:\n",
        "#A script the R is generated to generate the output graphs\n",
        "out_r=open('r_residues.R','w')\n",
        "\n",
        "# Determining the number of frames\n",
        "os.system('cd '+InputFolder+';ls *.pdb | wc -l > aux')\n",
        "aux=open(InputFolder+'aux')\n",
        "laux=aux.readline()\n",
        "n_pdbs=int(laux.rstrip('\\n'))\n",
        "if Start == 0:\n",
        "  n_pdbs=int(laux.rstrip('\\n')) - 1\n",
        "\n",
        "os.system('rm '+InputFolder+'aux')\n",
        "\n",
        "out_r.write('library(reticulate)\\n')\n",
        "out_r.write('use_python(\"/usr/bin/python3\")\\n')\n",
        "out_r.write('Sys.setenv(RETICULATE_PYTHON = \"/usr/bin/python3\")\\n')\n",
        "out_r.write('reticulate::py_config()\\n')\n",
        "out_r.write('library(frustratometeR)\\n')\n",
        "out_r.write('PdbsDir <- \"'+InputRoot+'\"\\n')\n",
        "out_r.write('ResultsDir <- \"'+OutputRoot+'\"\\n')\n",
        "out_r.write('OrderList <-c()\\n')\n",
        "out_r.write('for(i in as.numeric('+str(Start)+'):as.numeric('+str(n_pdbs)+')){OrderList <- c(OrderList, paste(\"'+prefix+'\",i,\".pdb\",sep=\"\"))}\\n')\n",
        "out_r.write('Dynamic_sing <- dynamic_frustration(PdbsDir = PdbsDir, ResultsDir = ResultsDir, OrderList = OrderList,\\n')\n",
        "out_r.write('                                    GIFs = FALSE, Mode = \"singleresidue\")\\n')\n",
        "for j in range(0,len(residues_filtered)):\n",
        "   out_r.write('Dynamic_sing <- dynamic_res(Dynamic = Dynamic_sing, Resno = '+residues_filtered[j]+', Chain = \"X\", Graphics = TRUE)\\n')\n",
        "out_r.write('Dynamic_mutational <- dynamic_frustration(PdbsDir = PdbsDir, ResultsDir = ResultsDir, OrderList = OrderList,\\n')\n",
        "out_r.write('                                    GIFs = FALSE, Mode = \"mutational\")\\n')\n",
        "for j in range(0,len(residues_filtered)):\n",
        "   out_r.write('Dynamic_mutational <- dynamic_res(Dynamic = Dynamic_mutational, Resno = '+residues_filtered[j]+', Chain = \"X\", Graphics = TRUE)\\n')\n",
        "out_r.write('Dynamic_configurational <- dynamic_frustration(PdbsDir = PdbsDir, ResultsDir = ResultsDir, OrderList = OrderList,\\n')\n",
        "out_r.write('                                    GIFs = FALSE, Mode = \"configurational\")\\n')\n",
        "for j in range(0,len(residues_filtered)):\n",
        "   out_r.write('Dynamic_configurational <- dynamic_res(Dynamic = Dynamic_configurational, Resno = '+residues_filtered[j]+', Chain = \"X\", Graphics = TRUE)\\n')\n",
        "\n",
        "out_r.close()\n",
        "\n",
        "os.system('udocker --allow-root run --rm -v $(pwd):/root marifrei/frustrar:latest Rscript r_residues.R > Results')\n",
        "\n",
        "for j in range(0,len(residues_filtered)):\n",
        "   os.system('cp '+OutputFolder+'/Dynamic_plots_res_'+residues_filtered[j]+'_X/dynamic5adens_mutational_Res'+residues_filtered[j]+'.png '+InputFolder+'/pngs-all/')\n",
        "   os.system('cp '+OutputFolder+'/Dynamic_plots_res_'+residues_filtered[j]+'_X/dynamic5adens_configurational_Res'+residues_filtered[j]+'.png '+InputFolder+'/pngs-all/')\n",
        "   os.system('cp '+OutputFolder+'/Dynamic_plots_res_'+residues_filtered[j]+'_X/dynamic_IndexFrustration_singleresidue_Res'+residues_filtered[j]+'.png '+InputFolder+'/pngs-all/')"
      ]
    }
  ],
  "metadata": {
    "colab": {
      "provenance": []
    },
    "kernelspec": {
      "display_name": "Python 3",
      "name": "python3"
    },
    "language_info": {
      "name": "python"
    }
  },
  "nbformat": 4,
  "nbformat_minor": 0
}